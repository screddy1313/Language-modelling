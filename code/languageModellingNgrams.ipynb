{
 "cells": [
  {
   "cell_type": "code",
   "execution_count": 38,
   "metadata": {},
   "outputs": [],
   "source": [
    "import os\n",
    "import nltk\n",
    "import math\n",
    "import pickle"
   ]
  },
  {
   "cell_type": "code",
   "execution_count": 39,
   "metadata": {},
   "outputs": [],
   "source": [
    "from nltk import sent_tokenize,word_tokenize\n",
    "# from nltk.corpus import stopwords\n",
    "# stopWords = set(stopwords.words('english'))"
   ]
  },
  {
   "cell_type": "markdown",
   "metadata": {},
   "source": [
    "preprocessing module:\n",
    "it will remove all the alpha numeric words and words that not of atleast length 2\n",
    "\n",
    "I have not eliminated stop words because stop words play an important role"
   ]
  },
  {
   "cell_type": "code",
   "execution_count": 40,
   "metadata": {},
   "outputs": [],
   "source": [
    "def preprocessing(words):\n",
    "    mod_words = []\n",
    "    symbols = ['.',',',':','?','!','<','>','(',')','#','--','-','$','@','%','``',';',\"''\"]\n",
    "    for word in words:\n",
    "        if word.isalpha():\n",
    "            if len(word) > 1 :\n",
    "                mod_words.append(word.lower())\n",
    "    return mod_words"
   ]
  },
  {
   "cell_type": "markdown",
   "metadata": {},
   "source": [
    "Bigram Generator module:\n",
    "\n",
    "I have used a dictionary of dictionaries to store bigrams.\n",
    "\n",
    "the first word in tuple bigram acts as a key for first level. Now all the different bigrams with the same key will go to that dictionary.\n",
    "example : (a,b),(a,c),(a,b) \n",
    "dict['a'] = {'b' = 2,'c' = 1 }\n"
   ]
  },
  {
   "cell_type": "code",
   "execution_count": 41,
   "metadata": {},
   "outputs": [],
   "source": [
    "def bigram_generator(words,bigram_dict):\n",
    "    for i in range(len(words)-1):\n",
    "        if words[i] in bigram_dict:\n",
    "            if words[i+1] in bigram_dict[words[i]]:\n",
    "                bigram_dict[words[i]][words[i+1]] += 1\n",
    "            else:\n",
    "                bigram_dict[words[i]][words[i+1]] = 1\n",
    "        else:\n",
    "            bigram_dict[words[i]] = {}\n",
    "            bigram_dict[words[i]][words[i+1]] = 1\n",
    "    return bigram_dict"
   ]
  },
  {
   "cell_type": "code",
   "execution_count": 42,
   "metadata": {},
   "outputs": [],
   "source": [
    "def bigram_freq_generator(bigram_dict,size):\n",
    "    for key in bigram_dict.keys():\n",
    "        for k in bigram_dict[key].keys():\n",
    "            bigram_dict[key][k] += 1 # Laplace Smoothing\n",
    "    bigram_freq = {}\n",
    "    for key in bigram_dict.keys():\n",
    "        bigram_freq[key] = {}\n",
    "        count = len(bigram_dict[key])\n",
    "        denom = count + size\n",
    "        for k in bigram_dict[key].keys():\n",
    "            bigram_freq[key][k] = math.log10(bigram_dict[key][k]/denom)\n",
    "            \n",
    "    return bigram_freq"
   ]
  },
  {
   "cell_type": "code",
   "execution_count": 43,
   "metadata": {},
   "outputs": [],
   "source": [
    "def trigram_generator(words,trigram_dict):\n",
    "    for i in range(len(words)-2):\n",
    "        if words[i] in trigram_dict:\n",
    "            if words[i+1] in trigram_dict[words[i]]:\n",
    "                if words[i+2] in trigram_dict[words[i]][words[i+1]]:\n",
    "                    trigram_dict[words[i]][words[i+1]][words[i+2]] += 1\n",
    "                else:\n",
    "                    trigram_dict[words[i]][words[i+1]][words[i+2]] = 1\n",
    "            else:\n",
    "                trigram_dict[words[i]][words[i+1]] = {}\n",
    "                trigram_dict[words[i]][words[i+1]][words[i+2]] = 1\n",
    "        else:\n",
    "            trigram_dict[words[i]] ={}\n",
    "            trigram_dict[words[i]][words[i+1]] = {}\n",
    "            trigram_dict[words[i]][words[i+1]][words[i+2]] = 1\n",
    "    return trigram_dict"
   ]
  },
  {
   "cell_type": "code",
   "execution_count": 44,
   "metadata": {},
   "outputs": [],
   "source": [
    "def trigram_freq_generator(trigram_dict,size):\n",
    "    for keys in trigram_dict.keys():\n",
    "        for key in trigram_dict[keys].keys():\n",
    "            for k in trigram_dict[keys][key].keys():\n",
    "                trigram_dict[keys][key][k] += 1 # Laplace Smoothing\n",
    "    trigram_freq = {}\n",
    "    for keys in trigram_dict.keys():\n",
    "        trigram_freq[keys] = {}\n",
    "        for key in trigram_dict[keys].keys():\n",
    "            trigram_freq[keys][key] = {}\n",
    "            count = len(trigram_dict[keys][key])\n",
    "            denom = count + size\n",
    "            for k in trigram_dict[keys][key].keys():\n",
    "                trigram_freq[keys][key][k] = math.log10(trigram_dict[keys][key][k]/denom)\n",
    "                \n",
    "    return trigram_freq"
   ]
  },
  {
   "cell_type": "code",
   "execution_count": 70,
   "metadata": {},
   "outputs": [],
   "source": [
    "#Bigram Sentence generator\n",
    "def maxBigram(key,bigram_freq_copy):\n",
    "    p = 0\n",
    "    m = max(bigram_freq_copy[key].values())\n",
    "    for k,v in bigram_freq_copy[key].items():\n",
    "        if v == m :\n",
    "            print(k,end = ' ')\n",
    "            del bigram_freq_copy[key][k]\n",
    "            return k,v\n",
    "            \n",
    "            "
   ]
  },
  {
   "cell_type": "code",
   "execution_count": 72,
   "metadata": {},
   "outputs": [],
   "source": [
    "def maxTrigram(key1,key2,trigram_freq):\n",
    "    m = max(trigram_freq[key1][key2].values())\n",
    "    for k,v in trigram_freq[key1][key2].items():\n",
    "        if v == m :\n",
    "            print(k,end=' ')\n",
    "            del trigram_freq[key1][key2][k]\n",
    "            return k,v"
   ]
  },
  {
   "cell_type": "code",
   "execution_count": 10,
   "metadata": {},
   "outputs": [],
   "source": [
    "# my_path = '20_newsgroups'\n",
    "# texts = []\n",
    "# folders = ['rec.motorcycles','rec.sport.baseball']\n",
    "# for i in range(len(folders)) :\n",
    "#     path = os.path.join(my_path,folders[i])\n",
    "#     text = ''\n",
    "#     for file in os.listdir(path):\n",
    "#         file_path = os.path.join(path,file)\n",
    "#         with open(file_path,'r',encoding=\"ISO-8859-1\") as f:\n",
    "#             text += f.read() + ' '\n",
    "#     texts.append(text)"
   ]
  },
  {
   "cell_type": "code",
   "execution_count": 11,
   "metadata": {},
   "outputs": [],
   "source": [
    "# out = open('./pickle/task2/texts.pkl','wb')\n",
    "# pickle.dump(texts,out)\n",
    "# out.close()"
   ]
  },
  {
   "cell_type": "code",
   "execution_count": 47,
   "metadata": {},
   "outputs": [],
   "source": [
    "out = open('./pickle/task2/texts.pkl','rb')\n",
    "texts = pickle.load(out)"
   ]
  },
  {
   "cell_type": "code",
   "execution_count": 12,
   "metadata": {},
   "outputs": [],
   "source": [
    "# sentences = []\n",
    "# for i in range(2):\n",
    "#     sentences.append(sent_tokenize(texts[i]))"
   ]
  },
  {
   "cell_type": "code",
   "execution_count": 13,
   "metadata": {},
   "outputs": [],
   "source": [
    "# out = open('./pickle/task2/sentences.pkl','wb')\n",
    "# pickle.dump(sentences,out)\n",
    "# out.close()"
   ]
  },
  {
   "cell_type": "code",
   "execution_count": 48,
   "metadata": {},
   "outputs": [],
   "source": [
    "out = open('./pickle/task2/sentences.pkl','rb')\n",
    "sentences = pickle.load(out)"
   ]
  },
  {
   "cell_type": "code",
   "execution_count": 49,
   "metadata": {},
   "outputs": [
    {
     "data": {
      "text/plain": [
       "13652"
      ]
     },
     "execution_count": 49,
     "metadata": {},
     "output_type": "execute_result"
    }
   ],
   "source": [
    "len(sentences[1])"
   ]
  },
  {
   "cell_type": "code",
   "execution_count": 15,
   "metadata": {},
   "outputs": [],
   "source": [
    "# list_bigram_dicts = []\n",
    "# list_bigram_count = []\n",
    "# for i in range(2):\n",
    "#     bigram_dict = {}\n",
    "#     bigram_count = 0\n",
    "#     for sent in sentences[i]:\n",
    "#         words = preprocessing(word_tokenize(sent))\n",
    "#         bigram_count += len(words)\n",
    "#         words.insert(0,'<s>')\n",
    "#         bigram_dict = bigram_generator(words,bigram_dict)\n",
    "#     list_bigram_dicts.append(bigram_dict)\n",
    "#     list_bigram_count.append(bigram_count)"
   ]
  },
  {
   "cell_type": "code",
   "execution_count": 16,
   "metadata": {},
   "outputs": [],
   "source": [
    "# out = open('./pickle/task2/list_bigram_dicts.pkl','wb')\n",
    "# pickle.dump(list_bigram_dicts,out)\n",
    "# out.close()\n",
    "\n",
    "# out = open('./pickle/task2/list_bigram_count.pkl','wb')\n",
    "# pickle.dump(list_bigram_count,out)\n",
    "# out.close()"
   ]
  },
  {
   "cell_type": "code",
   "execution_count": 50,
   "metadata": {},
   "outputs": [],
   "source": [
    "out = open('./pickle/task2/list_bigram_dicts.pkl','rb')\n",
    "list_bigram_dicts = pickle.load(out)\n",
    "\n",
    "out = open('./pickle/task2/list_bigram_count.pkl','rb')\n",
    "list_bigram_count = pickle.load(out)"
   ]
  },
  {
   "cell_type": "code",
   "execution_count": 17,
   "metadata": {},
   "outputs": [],
   "source": [
    "# list_trigram_dict = []\n",
    "# list_trigram_count = []\n",
    "# for i in range(2):\n",
    "#     trigram_dict = {}\n",
    "#     trigram_count = 0\n",
    "#     for sent in sentences[i]:\n",
    "#         words = preprocessing(word_tokenize(sent))\n",
    "#         trigram_count += len(words)\n",
    "#         words.insert(0,'<s>')\n",
    "#         words.insert(0,'<s>')\n",
    "\n",
    "#         trigram_dict = trigram_generator(words,trigram_dict)\n",
    "#     list_trigram_dict.append(trigram_dict)\n",
    "#     list_trigram_count.append(trigram_count)"
   ]
  },
  {
   "cell_type": "code",
   "execution_count": 18,
   "metadata": {},
   "outputs": [],
   "source": [
    "# out = open('./pickle/task2/list_trigram_dict.pkl','wb')\n",
    "# pickle.dump(list_trigram_dict,out)\n",
    "# out.close()\n",
    "\n",
    "# out = open('./pickle/task2/list_trigram_count.pkl','wb')\n",
    "# pickle.dump(list_trigram_count,out)\n",
    "# out.close()"
   ]
  },
  {
   "cell_type": "code",
   "execution_count": 51,
   "metadata": {},
   "outputs": [],
   "source": [
    "out = open('./pickle/task2/list_trigram_dict.pkl','rb')\n",
    "list_trigram_dict = pickle.load(out)\n",
    "\n",
    "out = open('./pickle/task2/list_trigram_count.pkl','rb')\n",
    "list_trigram_count = pickle.load(out)"
   ]
  },
  {
   "cell_type": "code",
   "execution_count": 19,
   "metadata": {},
   "outputs": [],
   "source": [
    "\n",
    "# bigram_freq = []\n",
    "# trigram_freq = []\n",
    "# for i in range(2):\n",
    "#     bigram_freq.append(bigram_freq_generator(list_bigram_dicts[i],list_bigram_count[i]))\n",
    "#     trigram_freq.append(trigram_freq_generator(list_trigram_dict[i],list_trigram_count[i]))\n",
    "    "
   ]
  },
  {
   "cell_type": "code",
   "execution_count": 20,
   "metadata": {},
   "outputs": [],
   "source": [
    "# out = open('./pickle/task2/bigram_freq.pkl','wb')\n",
    "# pickle.dump(bigram_freq,out)\n",
    "# out.close()\n",
    "\n",
    "# out = open('./pickle/task2/trigram_freq.pkl','wb')\n",
    "# pickle.dump(trigram_freq,out)\n",
    "# out.close()"
   ]
  },
  {
   "cell_type": "code",
   "execution_count": 52,
   "metadata": {},
   "outputs": [],
   "source": [
    "out = open('./pickle/task2/bigram_freq.pkl','rb')\n",
    "bigram_freq = pickle.load(out)\n",
    "\n",
    "out = open('./pickle/task2/trigram_freq.pkl','rb')\n",
    "trigram_freq = pickle.load(out)"
   ]
  },
  {
   "cell_type": "markdown",
   "metadata": {},
   "source": [
    "# Bigrams from each folder"
   ]
  },
  {
   "cell_type": "code",
   "execution_count": 77,
   "metadata": {},
   "outputs": [
    {
     "name": "stdout",
     "output_type": "stream",
     "text": [
      "\n",
      "Bigram 0 -->\n",
      "and it was the ground on the list ride it would be very good reasons \n",
      "Log Probability is  -53.98979050334503\n",
      "############\n",
      "\n",
      "Bigram 1 -->\n",
      "it is that he is an average in my own mattingly is better than the \n",
      "Log Probability is  -54.11396558674085\n",
      "############\n"
     ]
    }
   ],
   "source": [
    "for i in range(2):\n",
    "    key = '<s>' # Starting Bigram\n",
    "    print()\n",
    "    print('Bigram {} -->'.format(i))\n",
    "    bigram_freq_copy = bigram_freq[i].copy()\n",
    "    c = 0\n",
    "    for i in range(15):\n",
    "        key,p = maxBigram(key,bigram_freq_copy)\n",
    "        c += p\n",
    "    print()\n",
    "    print(\"Log Probability is \",c)\n",
    "    print('############')"
   ]
  },
  {
   "cell_type": "markdown",
   "metadata": {},
   "source": [
    "# Trigrams"
   ]
  },
  {
   "cell_type": "code",
   "execution_count": 75,
   "metadata": {},
   "outputs": [
    {
     "name": "stdout",
     "output_type": "stream",
     "text": [
      "\n",
      "trigram 0 -->\n",
      "if you do know what is the best of times Log Probability is  -40.490838459532426\n",
      "############\n",
      "\n",
      "trigram 1 -->\n",
      "he was in the game and it is considered good Log Probability is  -40.6381044080921\n",
      "############\n"
     ]
    }
   ],
   "source": [
    "for i in range(2):\n",
    "    print()\n",
    "    print('trigram {} -->'.format(i))\n",
    "    trigram_freq_copy = trigram_freq[i].copy()\n",
    "    key1 = '<s>'\n",
    "    key2 = '<s>'\n",
    "    c = 0\n",
    "    for i in range(10):\n",
    "        key,p = maxTrigram(key1,key2,trigram_freq_copy)\n",
    "        key1 = key2\n",
    "        key2 = key\n",
    "        c += p\n",
    "    print(\"Log Probability is \",c)\n",
    "    print('############')"
   ]
  },
  {
   "cell_type": "code",
   "execution_count": null,
   "metadata": {},
   "outputs": [],
   "source": []
  },
  {
   "cell_type": "code",
   "execution_count": 23,
   "metadata": {},
   "outputs": [],
   "source": [
    "#1)what if first key in bigram does not exist? How do we smooth it? used 1000 as some constant\n"
   ]
  },
  {
   "cell_type": "markdown",
   "metadata": {},
   "source": [
    "## Q2) Given Input -return Log probability"
   ]
  },
  {
   "cell_type": "code",
   "execution_count": 55,
   "metadata": {},
   "outputs": [],
   "source": [
    "def findBigramProbability(key1,key2,bigram_freq,size):\n",
    "    if key1 in bigram_freq.keys():\n",
    "        if key2 in bigram_freq[key1].keys():\n",
    "            return bigram_freq[key1][key2]\n",
    "        else:\n",
    "            count = len(bigram_freq[key1])\n",
    "            denom = count+size\n",
    "            return 1/denom\n",
    "    else:\n",
    "        return 1/(10000+size)"
   ]
  },
  {
   "cell_type": "code",
   "execution_count": 56,
   "metadata": {},
   "outputs": [],
   "source": [
    "def findTrigramProbability(key1,key2,key3,trigram_freq,size):\n",
    "    if key1 in trigram_freq.keys():\n",
    "        if key2 in trigram_freq[key1].keys():\n",
    "            if key3 in trigram_freq[key1][key2].keys():\n",
    "                return trigram_freq[key1][key2][key3]\n",
    "            else:\n",
    "                count = len(trigram_freq[key1][key2])\n",
    "        else:\n",
    "            count = len(trigram_freq[key1])\n",
    "    else:\n",
    "        count = 10000\n",
    "    denom = count + size\n",
    "    return 1/denom"
   ]
  },
  {
   "cell_type": "code",
   "execution_count": 57,
   "metadata": {},
   "outputs": [],
   "source": [
    "def bigramProbability(sent,num):\n",
    "    bi_prob_sum = 0\n",
    "    b_count = 0\n",
    "    for s in sent:\n",
    "        words = preprocessing(word_tokenize(s))\n",
    "        b_count += len(words)\n",
    "        words.insert(0,'<s>')\n",
    "\n",
    "        for i in range(len(words)-1):\n",
    "            bi_prob_sum += findBigramProbability(words[i],words[i+1],bigram_freq[num],list_bigram_count[num])\n",
    "    return bi_prob_sum,b_count"
   ]
  },
  {
   "cell_type": "code",
   "execution_count": 58,
   "metadata": {},
   "outputs": [],
   "source": [
    "def trigramProbability(sent,num):\n",
    "    prob = 0\n",
    "    trigram_count = 0\n",
    "    for s in sent:\n",
    "        words = preprocessing(word_tokenize(s))\n",
    "        trigram_count += len(words)\n",
    "        words.insert(0,'<s>')\n",
    "        words.insert(0,'<s>')\n",
    "        for i in range(len(words) - 2):\n",
    "            prob += findTrigramProbability(words[i],words[i+1],words[i+2],trigram_freq[num],list_trigram_count[num])\n",
    "    return prob,trigram_count"
   ]
  },
  {
   "cell_type": "code",
   "execution_count": 59,
   "metadata": {},
   "outputs": [],
   "source": [
    "\n",
    "file = '20_newsgroups/rec.sport.baseball/100521'\n",
    "with open(file,'r',encoding=\"ISO-8859-1\") as f:\n",
    "    text = f.read()\n",
    "sent = sent_tokenize(text)\n",
    "\n",
    "\n"
   ]
  },
  {
   "cell_type": "code",
   "execution_count": 60,
   "metadata": {},
   "outputs": [
    {
     "name": "stdout",
     "output_type": "stream",
     "text": [
      "folder : rec.motorcycles Bigram Probability -309.3658406309581\n",
      "folder : rec.sport.baseball Bigram Probability -1030.9468809962957\n",
      " folder : rec.motorcycles Trigram Probabilty : -108.62301968206441\n",
      " folder : rec.sport.baseball Trigram Probabilty : -1113.7394706989967\n"
     ]
    }
   ],
   "source": [
    "for num in range(2):\n",
    "    bigram_prob,c = bigramProbability(sent,num)\n",
    "    print('folder : {} Bigram Probability {}'.format(folders[num],bigram_prob))\n",
    "for num in range(2):\n",
    "    trigram_prob,c = trigramProbability(sent,num)\n",
    "    print(' folder : {} Trigram Probabilty : {}'.format(folders[num],trigram_prob))"
   ]
  },
  {
   "cell_type": "markdown",
   "metadata": {},
   "source": [
    "##  Q3) Perplexity of given sentence"
   ]
  },
  {
   "cell_type": "code",
   "execution_count": 61,
   "metadata": {},
   "outputs": [],
   "source": [
    "def bigramPerplexity(sent,num):\n",
    "    prob,count = bigramProbability(sent,num)\n",
    "    perplexity = (-1)*prob/count\n",
    "    return 10 ** perplexity\n",
    "    "
   ]
  },
  {
   "cell_type": "code",
   "execution_count": 62,
   "metadata": {},
   "outputs": [],
   "source": [
    "def trigramPerplexity(sent,num):\n",
    "    prob,count = trigramProbability(sent,num)\n",
    "    perplexity = (-1)*prob/count\n",
    "    return 10 ** perplexity"
   ]
  },
  {
   "cell_type": "code",
   "execution_count": 63,
   "metadata": {},
   "outputs": [],
   "source": [
    "file = '20_newsgroups/rec.sport.baseball/100521'\n",
    "with open(file,'r',encoding=\"ISO-8859-1\") as f:\n",
    "    text = f.read()\n",
    "sent = sent_tokenize(text)\n"
   ]
  },
  {
   "cell_type": "code",
   "execution_count": 64,
   "metadata": {},
   "outputs": [
    {
     "name": "stdout",
     "output_type": "stream",
     "text": [
      "folder : rec.motorcycles Bigram perplexity 20.199522337348768\n",
      "folder : rec.sport.baseball Bigram perplexity 22386.53300003272\n",
      "folder : rec.motorcycles trigram perplexity 2.872929558014124\n",
      "folder : rec.sport.baseball trigram perplexity 50040.617608244174\n"
     ]
    }
   ],
   "source": [
    "for num in range(2):\n",
    "    bigram_perplexity = bigramPerplexity(sent,num)\n",
    "    print('folder : {} Bigram perplexity {}'.format(folders[num],bigram_perplexity))\n",
    "for num in range(2):\n",
    "    trigram_perplexity= trigramPerplexity(sent,num)\n",
    "    print('folder : {} trigram perplexity {}'.format(folders[num],trigram_perplexity))"
   ]
  },
  {
   "cell_type": "code",
   "execution_count": null,
   "metadata": {},
   "outputs": [],
   "source": [
    "1 98657"
   ]
  },
  {
   "cell_type": "markdown",
   "metadata": {},
   "source": [
    "## Good Turing"
   ]
  },
  {
   "cell_type": "code",
   "execution_count": 79,
   "metadata": {},
   "outputs": [],
   "source": [
    "def findMaxFreq(bigram_dict):\n",
    "    val = 0\n",
    "    for keys in bigram_dict.keys():\n",
    "        x = max(bigram_dict[keys].values())\n",
    "        if x > val :\n",
    "            val = x\n",
    "    return val"
   ]
  },
  {
   "cell_type": "code",
   "execution_count": 80,
   "metadata": {},
   "outputs": [],
   "source": [
    "def countFreq(bigram_dict,c):\n",
    "    count = 0\n",
    "    for keys in bigram_dict.keys():\n",
    "        for key in bigram_dict[keys].keys():\n",
    "            if c == bigram_dict[keys][key]:\n",
    "                count += 1\n",
    "    return count"
   ]
  },
  {
   "cell_type": "code",
   "execution_count": 103,
   "metadata": {},
   "outputs": [
    {
     "name": "stdout",
     "output_type": "stream",
     "text": [
      "948\n",
      "1026\n"
     ]
    }
   ],
   "source": [
    "list_gt_bigram_dict = []\n",
    "bigram_max_value = []\n",
    "for i in range(2):\n",
    "    gt_bigram_dict = {}\n",
    "    val = findMaxFreq(list_bigram_dicts[i])\n",
    "    bigram_max_value.append(val)\n",
    "    print(val)\n",
    "    for j in range(1,val+1):\n",
    "        x = countFreq(list_bigram_dicts[i],j)\n",
    "        if x != 0:\n",
    "            gt_bigram_dict[j] = x\n",
    "    list_gt_bigram_dict.append(gt_bigram_dict)\n",
    "        \n",
    "        "
   ]
  },
  {
   "cell_type": "code",
   "execution_count": 104,
   "metadata": {},
   "outputs": [
    {
     "data": {
      "text/plain": [
       "[948, 1026]"
      ]
     },
     "execution_count": 104,
     "metadata": {},
     "output_type": "execute_result"
    }
   ],
   "source": [
    "bigram_max_value"
   ]
  },
  {
   "cell_type": "code",
   "execution_count": null,
   "metadata": {},
   "outputs": [],
   "source": []
  },
  {
   "cell_type": "raw",
   "metadata": {},
   "source": []
  },
  {
   "cell_type": "code",
   "execution_count": 93,
   "metadata": {
    "collapsed": true
   },
   "outputs": [
    {
     "data": {
      "text/plain": [
       "369"
      ]
     },
     "execution_count": 93,
     "metadata": {},
     "output_type": "execute_result"
    }
   ],
   "source": [
    "list_gt_bigram_dict[0][10]"
   ]
  },
  {
   "cell_type": "code",
   "execution_count": 82,
   "metadata": {},
   "outputs": [],
   "source": [
    "def findMaxFreqTrigram(trigram_dict):\n",
    "    val = 0\n",
    "    for keys in trigram_dict.keys():\n",
    "        for key in trigram_dict[keys].keys():\n",
    "            x = max(trigram_dict[keys][key].values())\n",
    "            if x > val :\n",
    "                val = x\n",
    "    return val"
   ]
  },
  {
   "cell_type": "code",
   "execution_count": 83,
   "metadata": {},
   "outputs": [],
   "source": [
    "def countFreqTrigram(trigram_dict,c):\n",
    "    count = 0\n",
    "    for keys in trigram_dict.keys():\n",
    "        for key in trigram_dict[keys].keys():\n",
    "            for k in trigram_dict[keys][key].keys():\n",
    "                if c == trigram_dict[keys][key][k]:\n",
    "                    count += 1\n",
    "    return count"
   ]
  },
  {
   "cell_type": "code",
   "execution_count": 125,
   "metadata": {},
   "outputs": [],
   "source": [
    "list_gt_trigram_dict = []\n",
    "trigram_max_value = []\n",
    "for i in range(2):\n",
    "    gt_trigram_dict = {}\n",
    "    val = findMaxFreqTrigram(list_trigram_dict[i])\n",
    "    trigram_max_value.append(val)\n",
    "    for j in range(1,val+1):\n",
    "        x = countFreqTrigram(list_trigram_dict[i],j)\n",
    "        if x != 0:\n",
    "            gt_trigram_dict[j] = x\n",
    "    list_gt_trigram_dict.append(gt_trigram_dict)"
   ]
  },
  {
   "cell_type": "code",
   "execution_count": 86,
   "metadata": {
    "scrolled": true
   },
   "outputs": [],
   "source": [
    "#list_gt_trigram_dict[0]"
   ]
  },
  {
   "cell_type": "code",
   "execution_count": 100,
   "metadata": {},
   "outputs": [],
   "source": [
    "def countBigram(bigramfreq,key1,key2):\n",
    "    if key1 in bigramfreq.keys():\n",
    "        if key2 in bigramfreq[key1].keys():\n",
    "            return bigramfreq[key1][key2]\n",
    "        else :\n",
    "            return 0\n",
    "    else :\n",
    "        return 0"
   ]
  },
  {
   "cell_type": "code",
   "execution_count": 117,
   "metadata": {},
   "outputs": [],
   "source": [
    "def findCstar(count,gt_bigram_dict,j):\n",
    "    if count > bigram_max_value[j] :\n",
    "        return 1\n",
    "    if count in gt_bigram_dict.keys():\n",
    "        return gt_bigram_dict[count]\n",
    "    else:\n",
    "        return findCstar(count+1,gt_bigram_dict,j)"
   ]
  },
  {
   "cell_type": "code",
   "execution_count": 114,
   "metadata": {},
   "outputs": [
    {
     "data": {
      "text/plain": [
       "[180841, 208606]"
      ]
     },
     "execution_count": 114,
     "metadata": {},
     "output_type": "execute_result"
    }
   ],
   "source": [
    "list_bigram_count"
   ]
  },
  {
   "cell_type": "code",
   "execution_count": 138,
   "metadata": {},
   "outputs": [
    {
     "name": "stdout",
     "output_type": "stream",
     "text": [
      "Bigram Log Probability using Good Turing\n",
      "\n",
      "input :  he was in the game and it is considered good Log Probability is\n",
      "\n",
      "The Good turing log probability for folder rec.motorcycles is -52.63506579081297 \n",
      "The Good turing log probability for folder rec.sport.baseball is -107.99542561647397 \n"
     ]
    }
   ],
   "source": [
    "s = 'he was in the game and it is considered good Log Probability is'\n",
    "\n",
    "words = preprocessing(word_tokenize(s))\n",
    "words.insert(0,'<s>')\n",
    "prob = 0\n",
    "print('Bigram Log Probability using Good Turing')\n",
    "print()\n",
    "print('input : ',s)\n",
    "print()\n",
    "for j in range(2):\n",
    "    for i in range(len(words)-1):\n",
    "        c = countBigram(list_bigram_dicts[j],words[i],words[i+1])\n",
    "        cbar = findCstar(c+1,list_gt_bigram_dict[j],j)\n",
    "        if c == 0 :\n",
    "            denom = list_bigram_count[j]\n",
    "            prob += math.log10(cbar/denom)\n",
    "        else:\n",
    "            denom = findCstar(c,list_gt_bigram_dict[j],j)\n",
    "            cstar = cbar/denom\n",
    "            prob += math.log10(cstar/list_bigram_count[j])\n",
    "\n",
    "    print('The Good turing log probability for folder {} is {} '.format(folders[j],prob))\n",
    "    \n",
    "    \n",
    "    "
   ]
  },
  {
   "cell_type": "code",
   "execution_count": null,
   "metadata": {},
   "outputs": [],
   "source": []
  },
  {
   "cell_type": "code",
   "execution_count": 130,
   "metadata": {},
   "outputs": [],
   "source": [
    "def findCstarTrigram(count,gt_trigram_dict,j):\n",
    "    if count > trigram_max_value[j]:\n",
    "        return 1\n",
    "    if count in gt_trigram_dict.keys():\n",
    "        return gt_trigram_dict[count]\n",
    "    else:\n",
    "        return findCstar(count+1,gt_trigram_dict,j)"
   ]
  },
  {
   "cell_type": "code",
   "execution_count": 134,
   "metadata": {},
   "outputs": [],
   "source": [
    "def countTrigram(trigramfreq,key1,key2,key3):\n",
    "    if key1 in trigramfreq.keys():\n",
    "        if key2 in trigramfreq[key1].keys():\n",
    "            if key3 in trigramfreq[key1][key2].keys():\n",
    "                return trigramfreq[key1][key2][key3]\n",
    "            else:\n",
    "                return 0\n",
    "        else :\n",
    "            return 0\n",
    "    else :\n",
    "        return 0"
   ]
  },
  {
   "cell_type": "code",
   "execution_count": 137,
   "metadata": {},
   "outputs": [
    {
     "name": "stdout",
     "output_type": "stream",
     "text": [
      "Trigram Log Probability using Good Turing\n",
      "\n",
      "Input :  he was in the game and it is considered good Log Probability is\n",
      "\n",
      "The Good turing log probability for sentence using class  rec.motorcycles is -30.22816672202964 \n",
      "The Good turing log probability for sentence using class  rec.sport.baseball is -86.71255779403644 \n"
     ]
    }
   ],
   "source": [
    "s = 'he was in the game and it is considered good Log Probability is'\n",
    "\n",
    "words = preprocessing(word_tokenize(s))\n",
    "words.insert(0,'<s>')\n",
    "words.insert(0,'<s>')\n",
    "print('Trigram Log Probability using Good Turing')\n",
    "print()\n",
    "print('Input : ',s)\n",
    "print()\n",
    "prob = 0\n",
    "for j in range(2):\n",
    "    for i in range(len(words) - 2):\n",
    "        c = countTrigram(list_trigram_dict[j],words[i],words[i+1],words[i+2])\n",
    "        cbar = findCstarTrigram(c+1,list_gt_trigram_dict[j],j)\n",
    "        \n",
    "        if c == 0:\n",
    "            denom = list_trigram_count[j]\n",
    "            prob += math.log10(cbar/denom)\n",
    "        else:\n",
    "            denom = findCstar(c,list_gt_trigram_dict[j],j)\n",
    "            cstar = cbar/denom\n",
    "            prob += math.log10(cstar/list_trigram_count[j])\n",
    "            \n",
    "    print('The Good turing log probability for sentence using class  {} is {} '.format(folders[j],prob))\n",
    "    "
   ]
  },
  {
   "cell_type": "code",
   "execution_count": 140,
   "metadata": {},
   "outputs": [
    {
     "name": "stdout",
     "output_type": "stream",
     "text": [
      "Unigram Log Probability using Good Turing\n",
      "\n",
      "Input :  he was in the game and it is considered good Log Probability is\n",
      "\n",
      "The Good turing log probability for sentence using class  rec.motorcycles is -45.000245 \n",
      "The Good turing log probability for sentence using class  rec.sport.baseball is -96.07643 \n"
     ]
    }
   ],
   "source": [
    "print('Unigram Log Probability using Good Turing')\n",
    "print()\n",
    "print('Input : ',s)\n",
    "print()\n",
    "prob = [-45.000245,-96.07643]\n",
    "for j in range(2):\n",
    "    print('The Good turing log probability for sentence using class  {} is {} '.format(folders[j],prob[j]))"
   ]
  },
  {
   "cell_type": "code",
   "execution_count": null,
   "metadata": {},
   "outputs": [],
   "source": []
  }
 ],
 "metadata": {
  "kernelspec": {
   "display_name": "Python 3",
   "language": "python",
   "name": "python3"
  },
  "language_info": {
   "codemirror_mode": {
    "name": "ipython",
    "version": 3
   },
   "file_extension": ".py",
   "mimetype": "text/x-python",
   "name": "python",
   "nbconvert_exporter": "python",
   "pygments_lexer": "ipython3",
   "version": "3.6.9"
  }
 },
 "nbformat": 4,
 "nbformat_minor": 2
}
