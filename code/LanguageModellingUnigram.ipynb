{
 "cells": [
  {
   "cell_type": "code",
   "execution_count": 1,
   "metadata": {
    "colab": {
     "base_uri": "https://localhost:8080/",
     "height": 853
    },
    "colab_type": "code",
    "executionInfo": {
     "elapsed": 9018,
     "status": "ok",
     "timestamp": 1568787025418,
     "user": {
      "displayName": "Kikkuru Sarath Chandra Reddy",
      "photoUrl": "https://lh3.googleusercontent.com/a-/AAuE7mD4kisDrv8ajuYOLWb95-shzUGhXT1q8cQ2XdFJ=s64",
      "userId": "04830640369549249393"
     },
     "user_tz": -330
    },
    "id": "e6jTDtPe-XLJ",
    "outputId": "ff6a8524-7e24-4445-a0e0-6a584716c450"
   },
   "outputs": [],
   "source": [
    "import os\n",
    "import nltk\n",
    "import math\n",
    "from nltk import word_tokenize,sent_tokenize"
   ]
  },
  {
   "cell_type": "code",
   "execution_count": 2,
   "metadata": {},
   "outputs": [],
   "source": [
    "from nltk.corpus import stopwords\n",
    "stopWords = set(stopwords.words('english'))"
   ]
  },
  {
   "cell_type": "code",
   "execution_count": 8,
   "metadata": {},
   "outputs": [],
   "source": [
    "import pickle"
   ]
  },
  {
   "cell_type": "code",
   "execution_count": 3,
   "metadata": {
    "colab": {},
    "colab_type": "code",
    "id": "Lt67RLLn-XMS"
   },
   "outputs": [],
   "source": [
    "my_path = '20_newsgroups'\n",
    "folder = 'rec.motorcycles'\n",
    "path = os.path.join(my_path,folder)\n",
    "motor_text = ''\n",
    "for file in os.listdir(path):\n",
    "    file_path = os.path.join(path,file)\n",
    "    with open(file_path,'r') as f:\n",
    "        motor_text += f.read() + ' '"
   ]
  },
  {
   "cell_type": "code",
   "execution_count": 4,
   "metadata": {},
   "outputs": [],
   "source": [
    "x = '20_newsgroups'\n",
    "b_path = os.path.join(x,'rec.sport.baseball')\n",
    "baseball_text = ''\n",
    "for f in os.listdir(b_path):\n",
    "    n = os.path.join(b_path,f)\n",
    "    with open(n,errors='ignore',encoding=\"utf8\") as l:\n",
    "        baseball_text += l.read()\n",
    "       "
   ]
  },
  {
   "cell_type": "code",
   "execution_count": 5,
   "metadata": {
    "colab": {},
    "colab_type": "code",
    "id": "PKP6IOgP-XMk"
   },
   "outputs": [],
   "source": [
    "def preprocessing(words):\n",
    "    mod_words = []\n",
    "    symbols = ['.',',',':','?','!','<','>','(',')','#','--','-','$','@','%','``',';',\"''\"]\n",
    "\n",
    "    for word in words:\n",
    "        if word not in stopWords:\n",
    "            if word.isalpha():\n",
    "                if len(word) > 1 :\n",
    "                    mod_words.append(word.lower())\n",
    "    return mod_words\n",
    "        "
   ]
  },
  {
   "cell_type": "code",
   "execution_count": 6,
   "metadata": {
    "colab": {},
    "colab_type": "code",
    "id": "0YI7MTOb-XMz"
   },
   "outputs": [],
   "source": [
    "baseball_unigram = preprocessing(word_tokenize(baseball_text))\n",
    "motor_unigram = preprocessing(word_tokenize(motor_text))\n",
    "m = len(motor_unigram)\n",
    "b = len(motor_unigram)"
   ]
  },
  {
   "cell_type": "code",
   "execution_count": 9,
   "metadata": {},
   "outputs": [],
   "source": [
    "out = open('./pickle/task2/baseball_unigram.pkl','wb')\n",
    "pickle.dump(baseball_unigram,out)\n",
    "out.close()\n",
    "\n",
    "out = open('./pickle/task2/motor_unigram.pkl','wb')\n",
    "pickle.dump(motor_unigram,out)\n",
    "out.close()"
   ]
  },
  {
   "cell_type": "code",
   "execution_count": 10,
   "metadata": {
    "colab": {},
    "colab_type": "code",
    "id": "gbW5hTxH-XM8"
   },
   "outputs": [],
   "source": [
    "def construct_dict(words):\n",
    "    dicti = {}\n",
    "    for word in words:\n",
    "        if word in dicti:\n",
    "            dicti[word] += 1\n",
    "        else:\n",
    "            dicti[word] = 1\n",
    "    return dicti"
   ]
  },
  {
   "cell_type": "code",
   "execution_count": 11,
   "metadata": {
    "colab": {},
    "colab_type": "code",
    "id": "xu0MeEUw-XNE"
   },
   "outputs": [],
   "source": [
    "def calc_freq(dicti,size,Vocab_size):\n",
    "    for key in dicti.keys():\n",
    "        dicti[key] += 1\n",
    "    size +=  Vocab_size\n",
    "    \n",
    "    freq = {}\n",
    "    for key in dicti.keys():\n",
    "        freq[key] = math.log10(dicti[key]/size)\n",
    "    return freq\n",
    "    \n",
    " "
   ]
  },
  {
   "cell_type": "code",
   "execution_count": 12,
   "metadata": {
    "colab": {},
    "colab_type": "code",
    "id": "YqRExUnT-XNO"
   },
   "outputs": [],
   "source": [
    "baseball_u_dict = construct_dict(baseball_unigram)\n",
    "motor_u_dict = construct_dict(motor_unigram)"
   ]
  },
  {
   "cell_type": "code",
   "execution_count": 13,
   "metadata": {},
   "outputs": [],
   "source": [
    "out = open('./pickle/task2/baseball_u_dict.pkl','wb')\n",
    "pickle.dump(baseball_u_dict,out)\n",
    "out.close()\n",
    "\n",
    "out = open('./pickle/task2/motor_u_dict.pkl','wb')\n",
    "pickle.dump(motor_u_dict,out)\n",
    "out.close()"
   ]
  },
  {
   "cell_type": "code",
   "execution_count": 14,
   "metadata": {
    "colab": {},
    "colab_type": "code",
    "id": "vsjmPWGZ-XNb"
   },
   "outputs": [],
   "source": [
    "vocab = set()\n",
    "for key in baseball_u_dict.keys():\n",
    "    vocab.add(key)\n",
    "\n",
    "for key in motor_u_dict.keys():\n",
    "    vocab.add(key)\n",
    "Vocab_size = len(vocab)"
   ]
  },
  {
   "cell_type": "code",
   "execution_count": 15,
   "metadata": {},
   "outputs": [],
   "source": [
    "out = open('./pickle/task2/vocab.pkl','wb')\n",
    "pickle.dump(vocab,out)\n",
    "out.close()"
   ]
  },
  {
   "cell_type": "code",
   "execution_count": 16,
   "metadata": {
    "colab": {},
    "colab_type": "code",
    "id": "mA3pH3Z2-XNn"
   },
   "outputs": [],
   "source": [
    "baseball_u_freq = calc_freq(baseball_u_dict,len(baseball_unigram),Vocab_size)\n",
    "motor_u_freq = calc_freq(motor_u_dict,len(motor_unigram),Vocab_size)"
   ]
  },
  {
   "cell_type": "code",
   "execution_count": 17,
   "metadata": {},
   "outputs": [],
   "source": [
    "out = open('./pickle/task2/baseball_u_freq.pkl','wb')\n",
    "pickle.dump(baseball_u_freq,out)\n",
    "out.close()\n",
    "\n",
    "out = open('./pickle/task2/motor_u_freq.pkl','wb')\n",
    "pickle.dump(motor_u_freq,out)\n",
    "out.close()"
   ]
  },
  {
   "cell_type": "code",
   "execution_count": 18,
   "metadata": {
    "colab": {},
    "colab_type": "code",
    "id": "bzV7UkpG-XNw"
   },
   "outputs": [],
   "source": [
    "baseball_u_freq_copy = baseball_u_freq.copy()\n",
    "motor_u_freq_copy = motor_u_freq.copy()"
   ]
  },
  {
   "cell_type": "code",
   "execution_count": 19,
   "metadata": {
    "colab": {},
    "colab_type": "code",
    "id": "N2swzTGD-XOG"
   },
   "outputs": [],
   "source": [
    "def generateSentence(dicti):\n",
    "    sent = ''\n",
    "    p = 0\n",
    "    for i in range(10):\n",
    "        \n",
    "        x = max(dicti.values())\n",
    "        p += x\n",
    "        for key,val in dicti.items():\n",
    "            if val == x :\n",
    "                sent += key + ' '\n",
    "                print(key, end = ' ')\n",
    "                break\n",
    "        del dicti[key]\n",
    "    return sent,p"
   ]
  },
  {
   "cell_type": "code",
   "execution_count": 20,
   "metadata": {},
   "outputs": [],
   "source": [
    "def prob(words,freq,size):\n",
    "    p = 0\n",
    "    k =1\n",
    "    smoothing = (k/(size+Vocab_size)) \n",
    "    for word in words :\n",
    "        if word in freq:\n",
    "            x = (freq[word])\n",
    "            p += math.log10((10 ** x) + smoothing)\n",
    "        else :\n",
    "            p += math.log10(smoothing)\n",
    "    return p"
   ]
  },
  {
   "cell_type": "markdown",
   "metadata": {},
   "source": [
    "## Unigram Sentences generation"
   ]
  },
  {
   "cell_type": "code",
   "execution_count": 21,
   "metadata": {
    "colab": {},
    "colab_type": "code",
    "id": "bIKPSZ4b-XOQ",
    "outputId": "b77370a5-62f3-469a-ff4e-61272beaae36",
    "scrolled": true
   },
   "outputs": [
    {
     "name": "stdout",
     "output_type": "stream",
     "text": [
      "apr from subject date path organization lines newsgroups gmt the apr from subject date path organization lines newsgroups gmt the \n",
      "Log Prob is  -21.39996936167777\n",
      "#####################\n",
      "the apr from subject date lines path newsgroups organization gmt the apr from subject date lines path newsgroups organization gmt \n",
      "Log Prob is  -21.842404751892644\n"
     ]
    }
   ],
   "source": [
    "sent,p = generateSentence(motor_u_freq_copy)\n",
    "print(sent)\n",
    "print('Log Prob is ',p)\n",
    "print('#####################')\n",
    "sent,p = generateSentence(baseball_u_freq_copy)\n",
    "print(sent)\n",
    "print('Log Prob is ',p)\n"
   ]
  },
  {
   "cell_type": "markdown",
   "metadata": {},
   "source": [
    "## Given a sentence/file as input, output the log(probability) of the sentence/file"
   ]
  },
  {
   "cell_type": "code",
   "execution_count": 22,
   "metadata": {},
   "outputs": [],
   "source": [
    "#rec.sport.baseball/100521 \n",
    "#rec.motorcycles/101725 \n",
    "file = '20_newsgroups/rec.sport.baseball/100521'\n",
    "\n",
    "with open(file,'r',encoding=\"ISO-8859-1\") as f:\n",
    "    text = f.read()\n"
   ]
  },
  {
   "cell_type": "code",
   "execution_count": 23,
   "metadata": {},
   "outputs": [
    {
     "name": "stdout",
     "output_type": "stream",
     "text": [
      "Motor class  probability :  -655.281733684364\n",
      "baseball class  probability :  -572.3391774042697\n"
     ]
    }
   ],
   "source": [
    "words = preprocessing(word_tokenize(text))\n",
    "motor_pro = prob(words,motor_u_freq,m)\n",
    "baseball_pro = prob(words,baseball_u_freq,b)\n",
    "\n",
    "print('Motor class  probability : ',motor_pro)\n",
    "print('baseball class  probability : ',baseball_pro)\n"
   ]
  },
  {
   "cell_type": "markdown",
   "metadata": {},
   "source": [
    "## Given a sentence/file as input, output the perplexity of the sentence/file"
   ]
  },
  {
   "cell_type": "code",
   "execution_count": 24,
   "metadata": {},
   "outputs": [],
   "source": [
    "#rec.sport.baseball/100521 \n",
    "#rec.motorcycles/101725 \n",
    "file = '20_newsgroups/rec.sport.baseball/100521'\n",
    "\n",
    "with open(file,'r',encoding=\"ISO-8859-1\") as f:\n",
    "    text = f.read()\n"
   ]
  },
  {
   "cell_type": "code",
   "execution_count": 25,
   "metadata": {},
   "outputs": [
    {
     "name": "stdout",
     "output_type": "stream",
     "text": [
      "Motor class  perplexity :  8860.950763993415\n",
      "baseball class  perplexity :  2804.3122551819306\n"
     ]
    }
   ],
   "source": [
    "words = preprocessing(word_tokenize(text))\n",
    "motor_pro = prob(words,motor_u_freq,m)\n",
    "baseball_pro = prob(words,baseball_u_freq,b)\n",
    "\n",
    "temp = (-1)* motor_pro/len(words)\n",
    "motor_perp = 10 ** temp\n",
    "\n",
    "\n",
    "temp = (-1)* baseball_pro/len(words)\n",
    "baseball_perp = 10 ** temp\n",
    "\n",
    "print('Motor class  perplexity : ',motor_perp)\n",
    "print('baseball class  perplexity : ',baseball_perp)"
   ]
  },
  {
   "cell_type": "code",
   "execution_count": null,
   "metadata": {},
   "outputs": [],
   "source": []
  }
 ],
 "metadata": {
  "accelerator": "GPU",
  "colab": {
   "name": "LanguageModelling.ipynb",
   "provenance": []
  },
  "kernelspec": {
   "display_name": "Python 3",
   "language": "python",
   "name": "python3"
  },
  "language_info": {
   "codemirror_mode": {
    "name": "ipython",
    "version": 3
   },
   "file_extension": ".py",
   "mimetype": "text/x-python",
   "name": "python",
   "nbconvert_exporter": "python",
   "pygments_lexer": "ipython3",
   "version": "3.6.9"
  }
 },
 "nbformat": 4,
 "nbformat_minor": 1
}
